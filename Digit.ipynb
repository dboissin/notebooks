{
 "cells": [
  {
   "cell_type": "code",
   "execution_count": 3,
   "metadata": {},
   "outputs": [],
   "source": [
    "import pandas as pd\n",
    "\n",
    "train_df = pd.read_csv('datasets/digit/train.csv')\n",
    "predict_df = pd.read_csv('datasets/digit/test.csv')"
   ]
  },
  {
   "cell_type": "code",
   "execution_count": 67,
   "metadata": {},
   "outputs": [],
   "source": [
    "from sklearn.model_selection import train_test_split\n",
    "import numpy as np\n",
    "\n",
    "def blur(data):\n",
    "    blur_data = []\n",
    "    for d in data.reshape((data.shape[0], 28, 28)):\n",
    "        blur_data.append(cv2.GaussianBlur(d,(5,5),0))\n",
    "    bd = np.array(blur_data)\n",
    "    return np.multiply(bd.reshape((data.shape[0], 784)), 1.0 / 255.0)\n",
    "        \n",
    "train_labels = train_df['label'].values\n",
    "# train_images = train_df.drop('label',axis=1).values.reshape((train_df.shape[0], 28, 28))\n",
    "\n",
    "#train_images = train_df.drop('label',axis=1).values.astype(np.float)\n",
    "#train_images = np.multiply(train_images, 1.0 / 255.0)\n",
    "train_images = blur(train_df.drop('label',axis=1).values.astype(np.float))\n",
    "\n",
    "X_train, X_test, y_train, y_test = train_test_split(train_images, train_labels, random_state=42)\n",
    "\n",
    "\n",
    "#predict_images = predict_df.values.astype(np.float)\n",
    "#predict_images = np.multiply(predict_images, 1.0 / 255.0)\n",
    "\n",
    "predict_images = blur(predict_df.values.astype(np.float))"
   ]
  },
  {
   "cell_type": "code",
   "execution_count": 48,
   "metadata": {},
   "outputs": [],
   "source": [
    "import cv2\n",
    "\n",
    "X_train_process = []\n",
    "y_train_process = []\n",
    "\n",
    "#print(y_train)\n",
    "X_test = np.multiply(X_test, 1.0 / 255.0)\n",
    "\n",
    "for i in range(len(X_train)):\n",
    "    img = X_train[i]\n",
    "    label = y_train[i]\n",
    "    X_train_process.append(img)\n",
    "    y_train_process.append(label)\n",
    "\n",
    "    m = cv2.getRotationMatrix2D((14,14), 45, 1.0)\n",
    "    rotated = cv2.warpAffine(img.reshape((28, 28)).astype(np.float), m, (28, 28))\n",
    "    X_train_process.append(rotated.reshape(784))\n",
    "    y_train_process.append(label)\n",
    "\n",
    "#    m = cv2.getRotationMatrix2D((14,14), -45, 1.0)\n",
    "#    rotated = cv2.warpAffine(img.reshape((28, 28)).astype(np.float), m, (28, 28))\n",
    "#    X_train_process.append(rotated.reshape(784))\n",
    "#    y_train_process.append(label)\n",
    "\n",
    "X_train_p = np.array(X_train_process)\n",
    "y_train_p = np.array(y_train_process)\n",
    "\n",
    "X_train_p = np.multiply(X_train_p, 1.0 / 255.0)"
   ]
  },
  {
   "cell_type": "code",
   "execution_count": 23,
   "metadata": {},
   "outputs": [
    {
     "name": "stdout",
     "output_type": "stream",
     "text": [
      "Training set score : 0.946\n",
      "Test set score : 0.920\n"
     ]
    }
   ],
   "source": [
    "from sklearn.linear_model import LogisticRegression\n",
    "\n",
    "lr = LogisticRegression(max_iter=10000).fit(X_train, y_train)\n",
    "\n",
    "print(\"Training set score : {:.3f}\".format(lr.score(X_train, y_train)))\n",
    "print(\"Test set score : {:.3f}\".format(lr.score(X_test, y_test)))\n",
    "\n",
    "predictions = lr.predict(predict_images)"
   ]
  },
  {
   "cell_type": "code",
   "execution_count": 69,
   "metadata": {},
   "outputs": [
    {
     "name": "stdout",
     "output_type": "stream",
     "text": [
      "Training set score : 1.000\n",
      "Test set score : 0.978\n"
     ]
    }
   ],
   "source": [
    "from sklearn.neural_network import MLPClassifier\n",
    "\n",
    "mlp = MLPClassifier(solver='lbfgs', max_iter=1000, activation='tanh', alpha=5,\n",
    "                    hidden_layer_sizes=[100, 100], random_state=42)\n",
    "mlp.fit(X_train, y_train)\n",
    "\n",
    "print(\"Training set score : {:.3f}\".format(mlp.score(X_train, y_train)))\n",
    "print(\"Test set score : {:.3f}\".format(mlp.score(X_test, y_test)))\n",
    "\n",
    "predictions = mlp.predict(predict_images)"
   ]
  },
  {
   "cell_type": "code",
   "execution_count": 70,
   "metadata": {},
   "outputs": [],
   "source": [
    "out = { 'ImageId': [ i for i in range(1, len(predictions) + 1)], 'Label': predictions }\n",
    "out_df = pd.DataFrame(out)\n",
    "out_df.to_csv('/tmp/submission-digit.csv', encoding='utf-8', index=False)"
   ]
  },
  {
   "cell_type": "code",
   "execution_count": 5,
   "metadata": {},
   "outputs": [
    {
     "name": "stdout",
     "output_type": "stream",
     "text": [
      "(42000, 28, 28)\n"
     ]
    }
   ],
   "source": [
    "process_images = train_df.drop('label',axis=1).values.reshape((train_df.shape[0], 28, 28))\n",
    "print(process_images.shape)"
   ]
  },
  {
   "cell_type": "code",
   "execution_count": 52,
   "metadata": {},
   "outputs": [
    {
     "data": {
      "image/png": "[encoded data removed]",
      "text/plain": [
       "<Figure size 432x288 with 1 Axes>"
      ]
     },
     "metadata": {
      "needs_background": "light"
     },
     "output_type": "display_data"
    }
   ],
   "source": [
    "from matplotlib import pyplot as plt\n",
    "import cv2\n",
    "\n",
    "img = process_images[0]\n",
    "plt.imshow(img, cmap='gray')\n",
    "plt.show()"
   ]
  },
  {
   "cell_type": "code",
   "execution_count": 54,
   "metadata": {
    "scrolled": false
   },
   "outputs": [
    {
     "data": {
      "image/png": "[encoded data removed]",
      "text/plain": [
       "<Figure size 432x288 with 1 Axes>"
      ]
     },
     "metadata": {
      "needs_background": "light"
     },
     "output_type": "display_data"
    }
   ],
   "source": [
    "M = cv2.getRotationMatrix2D((14,14), 45, 1.0)\n",
    "rotated = cv2.warpAffine(img.astype(np.float), M, (28, 28))\n",
    "#print(rotated.reshape(784))\n",
    "\n",
    "plt.imshow(rotated, cmap='gray')\n",
    "plt.show()"
   ]
  },
  {
   "cell_type": "code",
   "execution_count": 55,
   "metadata": {},
   "outputs": [
    {
     "data": {
      "image/png": "[encoded data removed]",
      "text/plain": [
       "<Figure size 432x288 with 1 Axes>"
      ]
     },
     "metadata": {
      "needs_background": "light"
     },
     "output_type": "display_data"
    }
   ],
   "source": [
    "blur = cv2.GaussianBlur(rotated,(5,5),0)\n",
    "plt.imshow(blur, cmap='gray')\n",
    "plt.show()"
   ]
  }
 ],
 "metadata": {
  "kernelspec": {
   "display_name": "Python 3",
   "language": "python",
   "name": "python3"
  },
  "language_info": {
   "codemirror_mode": {
    "name": "ipython",
    "version": 3
   },
   "file_extension": ".py",
   "mimetype": "text/x-python",
   "name": "python",
   "nbconvert_exporter": "python",
   "pygments_lexer": "ipython3",
   "version": "3.5.2"
  }
 },
 "nbformat": 4,
 "nbformat_minor": 2
}
