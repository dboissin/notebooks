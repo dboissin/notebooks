{
 "cells": [
  {
   "cell_type": "markdown",
   "metadata": {},
   "source": [
    "Reconnaissance de chiffre\n",
    "======================\n",
    "\n",
    "Chargement des données\n",
    "------------------------------------"
   ]
  },
  {
   "cell_type": "code",
   "execution_count": 80,
   "metadata": {},
   "outputs": [],
   "source": [
    "import pandas as pd\n",
    "\n",
    "train_df = pd.read_csv('datasets/digit/train.csv')\n",
    "predict_df = pd.read_csv('datasets/digit/test.csv')"
   ]
  },
  {
   "cell_type": "markdown",
   "metadata": {},
   "source": [
    "Préparation des données\n",
    "------------------------------------"
   ]
  },
  {
   "cell_type": "code",
   "execution_count": 132,
   "metadata": {},
   "outputs": [],
   "source": [
    "from sklearn.model_selection import train_test_split\n",
    "import numpy as np\n",
    "import cv2\n",
    "\n",
    "generate_new_train_images = True\n",
    "resize_images = False\n",
    "if resize_images:\n",
    "    width = 8\n",
    "    height = 8\n",
    "    blur_radius = (1, 1)\n",
    "else:\n",
    "    width = 28\n",
    "    height = 28\n",
    "    blur_radius = (3, 3)\n",
    "length = width * height\n",
    "\n",
    "def resize(images):\n",
    "    resized_images = []\n",
    "    for d in images.reshape((images.shape[0], 28, 28)):\n",
    "        resized_images.append(cv2.resize(d, (width, height)))\n",
    "    r = np.array(resized_images)\n",
    "    return r.reshape((r.shape[0], length))\n",
    "\n",
    "def blur(data):\n",
    "    blur_data = []\n",
    "    for d in data.reshape((data.shape[0], width, height)):\n",
    "        blur_data.append(cv2.GaussianBlur(d, blur_radius, 0))\n",
    "    bd = np.array(blur_data)\n",
    "    return np.multiply(bd.reshape((data.shape[0], length)), 1.0 / 255.0)\n",
    "\n",
    "def generate_train_images(X_in, y):\n",
    "    X = X_in.reshape((X_in.shape[0], width, height))\n",
    "    X_train_process = []\n",
    "    y_train_process = []\n",
    "    \n",
    "    size = (width, height)\n",
    "    center = (width / 2, height / 2)\n",
    "    scale = 1.0\n",
    "    \n",
    "    transformations_M = [\n",
    "        cv2.getRotationMatrix2D(center, 15, scale),\n",
    "        cv2.getRotationMatrix2D(center, -15, scale)\n",
    "    ]\n",
    "\n",
    "    for i in range(len(X)):\n",
    "        img = X[i]\n",
    "        label = y[i]\n",
    "        X_train_process.append(img)\n",
    "        y_train_process.append(label)\n",
    "\n",
    "        for M in transformations_M:\n",
    "            X_train_process.append(cv2.warpAffine(img, M, size))\n",
    "            y_train_process.append(label)\n",
    "\n",
    "    X_out = np.array(X_train_process)\n",
    "    return X_out.reshape((X_out.shape[0], length)), np.array(y_train_process)\n",
    "\n",
    "\n",
    "train_labels = train_df['label'].values\n",
    "if resize_images:\n",
    "    train_images = resize(train_df.drop('label', axis=1).values.astype(np.float))\n",
    "else:\n",
    "    train_images = train_df.drop('label', axis=1).values.astype(np.float)\n",
    "X_train, X_test, y_train, y_test = train_test_split(train_images, train_labels, random_state=42)\n",
    "\n",
    "if generate_new_train_images:\n",
    "    X_train, y_train = generate_train_images(X_train, y_train)\n",
    "X_train = blur(X_train)\n",
    "X_test = blur(X_test)\n",
    "if resize_images:\n",
    "    predict_images = blur(resize(predict_df.values.astype(np.float)))\n",
    "else:\n",
    "    predict_images = blur(predict_df.values.astype(np.float))"
   ]
  },
  {
   "cell_type": "markdown",
   "metadata": {},
   "source": [
    "Entrainement et prédictions avec une regression logistique\n",
    "-------------------------------------------------------------------------------------"
   ]
  },
  {
   "cell_type": "code",
   "execution_count": 23,
   "metadata": {},
   "outputs": [
    {
     "name": "stdout",
     "output_type": "stream",
     "text": [
      "Training set score : 0.946\n",
      "Test set score : 0.920\n"
     ]
    }
   ],
   "source": [
    "from sklearn.linear_model import LogisticRegression\n",
    "\n",
    "lr = LogisticRegression(max_iter=10000).fit(X_train, y_train)\n",
    "\n",
    "print(\"Training set score : {:.5f}\".format(lr.score(X_train, y_train)))\n",
    "print(\"Test set score : {:.5f}\".format(lr.score(X_test, y_test)))\n",
    "\n",
    "predictions = lr.predict(predict_images)"
   ]
  },
  {
   "cell_type": "markdown",
   "metadata": {},
   "source": [
    "Entrainement et prédictions avec un réseau de neurones\n",
    "---------------------------------------------------------------------------------"
   ]
  },
  {
   "cell_type": "code",
   "execution_count": 137,
   "metadata": {},
   "outputs": [
    {
     "name": "stdout",
     "output_type": "stream",
     "text": [
      "Training set score : 0.99981\n",
      "Test set score : 0.98076\n"
     ]
    }
   ],
   "source": [
    "from sklearn.neural_network import MLPClassifier\n",
    "\n",
    "mlp = MLPClassifier(solver='adam', max_iter=1000, activation='tanh',\n",
    "                    hidden_layer_sizes=[100, 100], random_state=42)\n",
    "mlp.fit(X_train, y_train)\n",
    "\n",
    "print(\"Training set score : {:.5f}\".format(mlp.score(X_train, y_train)))\n",
    "print(\"Test set score : {:.5f}\".format(mlp.score(X_test, y_test)))\n",
    "\n",
    "predictions = mlp.predict(predict_images)"
   ]
  },
  {
   "cell_type": "markdown",
   "metadata": {},
   "source": [
    "Génération du fichier de résultats\n",
    "------------------------------------------------"
   ]
  },
  {
   "cell_type": "code",
   "execution_count": 138,
   "metadata": {},
   "outputs": [],
   "source": [
    "out = { 'ImageId': [ i for i in range(1, len(predictions) + 1)], 'Label': predictions }\n",
    "out_df = pd.DataFrame(out)\n",
    "out_df.to_csv('/tmp/submission-digit.csv', encoding='utf-8', index=False)"
   ]
  },
  {
   "cell_type": "code",
   "execution_count": 98,
   "metadata": {},
   "outputs": [
    {
     "data": {
      "image/png": "[encoded data removed]",
      "text/plain": [
       "<Figure size 432x288 with 1 Axes>"
      ]
     },
     "metadata": {
      "needs_background": "light"
     },
     "output_type": "display_data"
    }
   ],
   "source": [
    "from matplotlib import pyplot as plt\n",
    "import cv2\n",
    "\n",
    "img = process_images[0].astype(np.float)\n",
    "plt.imshow(cv2.resize(img, (8, 8)), cmap='gray')\n",
    "plt.show()"
   ]
  },
  {
   "cell_type": "code",
   "execution_count": 54,
   "metadata": {
    "scrolled": false
   },
   "outputs": [
    {
     "data": {
      "image/png": "[encoded data removed]",
      "text/plain": [
       "<Figure size 432x288 with 1 Axes>"
      ]
     },
     "metadata": {
      "needs_background": "light"
     },
     "output_type": "display_data"
    }
   ],
   "source": [
    "M = cv2.getRotationMatrix2D((14,14), 45, 1.0)\n",
    "rotated = cv2.warpAffine(img.astype(np.float), M, (28, 28))\n",
    "#print(rotated.reshape(784))\n",
    "\n",
    "plt.imshow(rotated, cmap='gray')\n",
    "plt.show()"
   ]
  },
  {
   "cell_type": "code",
   "execution_count": 55,
   "metadata": {},
   "outputs": [
    {
     "data": {
      "image/png": "[encoded data removed]",
      "text/plain": [
       "<Figure size 432x288 with 1 Axes>"
      ]
     },
     "metadata": {
      "needs_background": "light"
     },
     "output_type": "display_data"
    }
   ],
   "source": [
    "blur = cv2.GaussianBlur(rotated,(5,5),0)\n",
    "plt.imshow(blur, cmap='gray')\n",
    "plt.show()"
   ]
  },
  {
   "cell_type": "code",
   "execution_count": 136,
   "metadata": {},
   "outputs": [
    {
     "name": "stdout",
     "output_type": "stream",
     "text": [
      "1\n"
     ]
    },
    {
     "data": {
      "image/png": "[encoded data removed]",
      "text/plain": [
       "<Figure size 432x288 with 1 Axes>"
      ]
     },
     "metadata": {
      "needs_background": "light"
     },
     "output_type": "display_data"
    }
   ],
   "source": [
    "from matplotlib import pyplot as plt\n",
    "import cv2\n",
    "\n",
    "i = 42\n",
    "img = X_train[i].reshape((width, height))\n",
    "print(y_train[i])\n",
    "plt.imshow(img, cmap='gray')\n",
    "plt.show()"
   ]
  },
  {
   "cell_type": "code",
   "execution_count": 126,
   "metadata": {},
   "outputs": [
    {
     "data": {
      "text/plain": [
       "784.0"
      ]
     },
     "execution_count": 126,
     "metadata": {},
     "output_type": "execute_result"
    }
   ],
   "source": [
    "21952000 / 28000.0\n"
   ]
  }
 ],
 "metadata": {
  "kernelspec": {
   "display_name": "Python 3",
   "language": "python",
   "name": "python3"
  },
  "language_info": {
   "codemirror_mode": {
    "name": "ipython",
    "version": 3
   },
   "file_extension": ".py",
   "mimetype": "text/x-python",
   "name": "python",
   "nbconvert_exporter": "python",
   "pygments_lexer": "ipython3",
   "version": "3.5.2"
  }
 },
 "nbformat": 4,
 "nbformat_minor": 2
}
