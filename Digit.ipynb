{
 "cells": [
  {
   "cell_type": "code",
   "execution_count": 3,
   "metadata": {},
   "outputs": [],
   "source": [
    "import pandas as pd\n",
    "\n",
    "train_df = pd.read_csv('datasets/digit/train.csv')\n",
    "predict_df = pd.read_csv('datasets/digit/test.csv')"
   ]
  },
  {
   "cell_type": "code",
   "execution_count": 21,
   "metadata": {},
   "outputs": [],
   "source": [
    "from sklearn.model_selection import train_test_split\n",
    "import numpy as np\n",
    "\n",
    "train_labels = train_df['label']\n",
    "# train_images = train_df.drop('label',axis=1).values.reshape((train_df.shape[0], 28, 28))\n",
    "train_images = train_df.drop('label',axis=1).values.astype(np.float)\n",
    "train_images = np.multiply(train_images, 1.0 / 255.0)\n",
    "\n",
    "X_train, X_test, y_train, y_test = train_test_split(train_images, train_labels, random_state=42)\n",
    "\n",
    "\n",
    "predict_images = predict_df.values.astype(np.float)\n",
    "predict_images = np.multiply(predict_images, 1.0 / 255.0)"
   ]
  },
  {
   "cell_type": "code",
   "execution_count": 23,
   "metadata": {},
   "outputs": [
    {
     "name": "stdout",
     "output_type": "stream",
     "text": [
      "Training set score : 0.946\n",
      "Test set score : 0.920\n"
     ]
    }
   ],
   "source": [
    "from sklearn.linear_model import LogisticRegression\n",
    "\n",
    "lr = LogisticRegression(max_iter=10000).fit(X_train, y_train)\n",
    "\n",
    "print(\"Training set score : {:.3f}\".format(lr.score(X_train, y_train)))\n",
    "print(\"Test set score : {:.3f}\".format(lr.score(X_test, y_test)))\n",
    "\n",
    "predictions = lr.predict(predict_images)"
   ]
  },
  {
   "cell_type": "code",
   "execution_count": 31,
   "metadata": {},
   "outputs": [
    {
     "name": "stdout",
     "output_type": "stream",
     "text": [
      "Training set score : 1.000\n",
      "Test set score : 0.977\n"
     ]
    }
   ],
   "source": [
    "from sklearn.neural_network import MLPClassifier\n",
    "\n",
    "mlp = MLPClassifier(solver='lbfgs', max_iter=1000, activation='tanh', alpha=5,\n",
    "                    hidden_layer_sizes=[100, 100], random_state=42)\n",
    "mlp.fit(X_train, y_train)\n",
    "\n",
    "print(\"Training set score : {:.3f}\".format(mlp.score(X_train, y_train)))\n",
    "print(\"Test set score : {:.3f}\".format(mlp.score(X_test, y_test)))\n",
    "\n",
    "predictions = mlp.predict(predict_images)"
   ]
  },
  {
   "cell_type": "code",
   "execution_count": 32,
   "metadata": {},
   "outputs": [],
   "source": [
    "out = { 'ImageId': [ i for i in range(1, len(predictions) + 1)], 'Label': predictions }\n",
    "out_df = pd.DataFrame(out)\n",
    "out_df.to_csv('/tmp/submission-digit.csv', encoding='utf-8', index=False)"
   ]
  }
 ],
 "metadata": {
  "kernelspec": {
   "display_name": "Python 3",
   "language": "python",
   "name": "python3"
  },
  "language_info": {
   "codemirror_mode": {
    "name": "ipython",
    "version": 3
   },
   "file_extension": ".py",
   "mimetype": "text/x-python",
   "name": "python",
   "nbconvert_exporter": "python",
   "pygments_lexer": "ipython3",
   "version": "3.5.2"
  }
 },
 "nbformat": 4,
 "nbformat_minor": 2
}
